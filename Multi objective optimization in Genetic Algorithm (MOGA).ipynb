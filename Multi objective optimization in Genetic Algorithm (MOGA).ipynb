{
  "nbformat": 4,
  "nbformat_minor": 0,
  "metadata": {
    "colab": {
      "provenance": []
    },
    "kernelspec": {
      "name": "python3",
      "display_name": "Python 3"
    },
    "language_info": {
      "name": "python"
    }
  },
  "cells": [
    {
      "cell_type": "code",
      "execution_count": null,
      "metadata": {
        "colab": {
          "base_uri": "https://localhost:8080/"
        },
        "id": "ZEYbacdnuh-k",
        "outputId": "f9401149-5ddc-4a27-d184-b4980be7e221"
      },
      "outputs": [
        {
          "output_type": "stream",
          "name": "stdout",
          "text": [
            "Collecting deap\n",
            "  Downloading deap-1.4.1-cp310-cp310-manylinux_2_5_x86_64.manylinux1_x86_64.manylinux_2_17_x86_64.manylinux2014_x86_64.whl (135 kB)\n",
            "\u001b[?25l     \u001b[90m━━━━━━━━━━━━━━━━━━━━━━━━━━━━━━━━━━━━━━━━\u001b[0m \u001b[32m0.0/135.4 kB\u001b[0m \u001b[31m?\u001b[0m eta \u001b[36m-:--:--\u001b[0m\r\u001b[2K     \u001b[91m━━━━━━━━━━━━━━━━━━━━━━━━━━━━━━━━━\u001b[0m\u001b[90m╺\u001b[0m\u001b[90m━━━━━━\u001b[0m \u001b[32m112.6/135.4 kB\u001b[0m \u001b[31m3.3 MB/s\u001b[0m eta \u001b[36m0:00:01\u001b[0m\r\u001b[2K     \u001b[90m━━━━━━━━━━━━━━━━━━━━━━━━━━━━━━━━━━━━━━━━\u001b[0m \u001b[32m135.4/135.4 kB\u001b[0m \u001b[31m3.0 MB/s\u001b[0m eta \u001b[36m0:00:00\u001b[0m\n",
            "\u001b[?25hRequirement already satisfied: numpy in /usr/local/lib/python3.10/dist-packages (from deap) (1.25.2)\n",
            "Installing collected packages: deap\n",
            "Successfully installed deap-1.4.1\n"
          ]
        }
      ],
      "source": [
        "!pip install deap"
      ]
    },
    {
      "cell_type": "code",
      "source": [
        "import random\n",
        "import numpy as np\n",
        "from deap import base, creator, tools, algorithms\n",
        "\n",
        "creator.create(\"FitnessMulti\", base.Fitness, weights=(1.0, -1.0, -1.0))\n",
        "creator.create(\"Individual\", list, fitness=creator.FitnessMulti)\n",
        "\n",
        "POPULATION_SIZE = 100\n",
        "GENERATIONS = 50\n",
        "CXPB = 0.7\n",
        "MUTPB = 0.2\n",
        "\n",
        "BOUND_LOW = [0, 0, 0]\n",
        "BOUND_UP = [100, 100, 100]\n",
        "\n",
        "toolbox = base.Toolbox()\n",
        "toolbox.register(\"attr_float\", random.uniform, 0, 100)\n",
        "toolbox.register(\"individual\", tools.initRepeat, creator.Individual, toolbox.attr_float, n=3)\n",
        "toolbox.register(\"population\", tools.initRepeat, list, toolbox.individual)\n",
        "toolbox.register(\"mate\", tools.cxBlend, alpha=0.5)\n",
        "toolbox.register(\"mutate\", tools.mutGaussian, mu=0, sigma=1, indpb=0.1)\n",
        "toolbox.register(\"select\", tools.selNSGA2)\n",
        "\n",
        "def evaluate(individual):\n",
        "    energy = individual[0]\n",
        "    cost = individual[1]\n",
        "    impact = individual[2]\n",
        "    return energy, cost, impact\n",
        "\n",
        "toolbox.register(\"evaluate\", evaluate)\n",
        "\n",
        "pop = toolbox.population(n=POPULATION_SIZE)\n",
        "\n",
        "algorithms.eaMuPlusLambda(pop, toolbox, mu=POPULATION_SIZE, lambda_=2*POPULATION_SIZE,\n",
        "                          cxpb=CXPB, mutpb=MUTPB, ngen=GENERATIONS, verbose=True)\n",
        "\n",
        "pareto_front = tools.sortNondominated(pop, len(pop), first_front_only=True)[0]\n",
        "print(\"Individual Fitness Value\")\n",
        "for ind in pareto_front:\n",
        "    print(ind.fitness.values)\n"
      ],
      "metadata": {
        "colab": {
          "base_uri": "https://localhost:8080/"
        },
        "id": "IzJZbgCAukRP",
        "outputId": "6679c7b4-c0a2-4ad2-9389-33b55b872ff6"
      },
      "execution_count": null,
      "outputs": [
        {
          "output_type": "stream",
          "name": "stdout",
          "text": [
            "gen\tnevals\n",
            "0  \t100   \n",
            "1  \t183   \n",
            "2  \t175   \n",
            "3  \t181   \n",
            "4  \t179   \n",
            "5  \t175   \n",
            "6  \t186   \n",
            "7  \t175   \n",
            "8  \t180   \n",
            "9  \t179   \n",
            "10 \t183   \n",
            "11 \t184   \n",
            "12 \t184   \n",
            "13 \t172   \n",
            "14 \t185   \n",
            "15 \t182   \n",
            "16 \t179   \n",
            "17 \t178   \n",
            "18 \t184   \n",
            "19 \t179   \n",
            "20 \t181   \n",
            "21 \t181   \n",
            "22 \t181   \n",
            "23 \t183   \n",
            "24 \t185   \n",
            "25 \t181   \n",
            "26 \t183   \n",
            "27 \t183   \n",
            "28 \t182   \n",
            "29 \t173   \n",
            "30 \t179   \n",
            "31 \t178   \n",
            "32 \t185   \n",
            "33 \t180   \n",
            "34 \t184   \n",
            "35 \t180   \n",
            "36 \t179   \n",
            "37 \t191   \n",
            "38 \t181   \n",
            "39 \t185   \n",
            "40 \t179   \n",
            "41 \t180   \n",
            "42 \t177   \n",
            "43 \t181   \n",
            "44 \t180   \n",
            "45 \t178   \n",
            "46 \t186   \n",
            "47 \t182   \n",
            "48 \t183   \n",
            "49 \t184   \n",
            "50 \t187   \n",
            "Individual Fitness Value\n",
            "(10580.845468673233, -35681.96145698146, -18969.784441763568)\n",
            "(10580.845468673233, -35681.96145698146, -18969.784441763568)\n",
            "(10580.845468673233, -35681.96145698146, -18969.784441763568)\n",
            "(10580.845468673233, -35681.96145698146, -18969.784441763568)\n",
            "(10580.845468673233, -35681.96145698146, -18969.784441763568)\n",
            "(29753.207007575376, -37567.43296166158, -17625.168555540782)\n",
            "(29753.207007575376, -37567.43296166158, -17625.168555540782)\n",
            "(30826.00694684866, -28009.648949269933, -18624.536252616155)\n",
            "(23569.79412156588, -24555.74648664018, -26396.48069563523)\n",
            "(29661.624830345667, -9161.448373473415, -25329.231325838675)\n",
            "(18947.552324903372, -4283.700709103865, -26637.681228675017)\n",
            "(18947.552324903372, -4283.700709103865, -26637.681228675017)\n",
            "(18947.552324903372, -4283.700709103865, -26637.681228675017)\n",
            "(29612.264836043716, -31327.618426310088, -23683.11607987512)\n",
            "(4026.7237972001412, -9709.703041615092, -26887.895281902245)\n",
            "(22655.52130094149, -35556.918987024306, -19708.856689232285)\n",
            "(22655.52130094149, -35556.918987024306, -19708.856689232285)\n",
            "(22655.52130094149, -35556.918987024306, -19708.856689232285)\n",
            "(-21.21372156841562, -38692.610609726566, -19333.938808803123)\n",
            "(-21.21372156841562, -38692.610609726566, -19333.938808803123)\n",
            "(36481.81941288018, -45725.114302202, -16665.930647672827)\n",
            "(38516.73732826204, -40884.24658029796, -9786.68536992979)\n",
            "(30318.210916905864, -12697.440731018827, -24968.495411007632)\n",
            "(28522.11884918956, -19821.396257576493, -25575.102967918003)\n",
            "(25961.343626909787, -66.93799655086423, -27170.272109404217)\n",
            "(19729.66525605299, -35309.22552952159, -20065.28528527227)\n",
            "(34215.01398546234, -26861.200500846655, -20059.425734940007)\n",
            "(24928.756367474132, -23499.542512552543, -26326.687023030663)\n",
            "(52565.98433195162, -15448.758872807775, -23063.421932967838)\n",
            "(24541.784029693095, -21140.646386415487, -26516.71844665035)\n",
            "(-9225.069675125094, -31360.75819609846, -21969.867945407437)\n",
            "(30826.428861336924, -28009.09935074548, -18624.536252616155)\n",
            "(35416.46601747652, -27147.869256080012, -17661.392873542532)\n",
            "(22309.460684869562, -34091.805079819474, -21738.778750066034)\n",
            "(22655.52130094149, -35557.3603415524, -19707.913603707308)\n",
            "(28133.113556722285, -21851.105860591146, -25448.611752056906)\n",
            "(43899.220980680286, -25530.83986614548, -22333.366147930952)\n",
            "(44796.83071522459, -36261.91225120938, -4514.024126328623)\n",
            "(32541.93239046854, -19567.19007527291, -23660.744845676203)\n"
          ]
        }
      ]
    }
  ]
}